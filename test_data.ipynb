{
 "cells": [
  {
   "cell_type": "code",
   "execution_count": null,
   "metadata": {},
   "outputs": [],
   "source": [
    "# %load data.py\n",
    "import os\n",
    "import numpy as np\n",
    "from PIL import Image\n",
    "from torch.utils.data import Dataset\n",
    "\n",
    "\n",
    "class FaceDataset(Dataset):\n",
    "\n",
    "    def __init__(self, filepath_list, transform=None, datMeta = None):\n",
    "        \n",
    "        self.images = []\n",
    "        self.labels = []\n",
    "        for filepath in filepath_list:\n",
    "            basename = os.path.basename(filepath)\n",
    "            \n",
    "            if datMeta is None:\n",
    "                self.labels.append(int(basename[4:6])) # 4,5\n",
    "                # 012345\n",
    "                # 001A45\n",
    "            else:\n",
    "                #datMeta[datMeta['fn'] == basename]['age']\n",
    "                self.labels.append(datMeta[datMeta['fn_base'] == basename]['age'].values[0])\n",
    "                self.labels2.append(((datMeta[datMeta['fn_base'] == basename]['gender'].values[0])== 'F')*1)\n",
    "                \n",
    "            img = np.array(Image.open(filepath).convert('RGB'))\n",
    "            self.images.append(img)\n",
    "        self.images = np.array(self.images)\n",
    "        self.labels = np.array(self.labels)\n",
    "        self.transform = transform\n",
    "\n",
    "    def __len__(self):\n",
    "\n",
    "        return self.images.shape[0]\n",
    "\n",
    "    def __getitem__(self, index):\n",
    "\n",
    "        img = self.images[index]\n",
    "        # img = self.images[index].astype(np.float32)\n",
    "        label = self.labels[index]\n",
    "        if self.transform:\n",
    "            img = self.transform(img)\n",
    "        sample = {'image': img, 'label': label}\n",
    "        return sample       \n"
   ]
  },
  {
   "cell_type": "code",
   "execution_count": null,
   "metadata": {},
   "outputs": [],
   "source": []
  }
 ],
 "metadata": {
  "kernelspec": {
   "display_name": "Environment (conda_pytorch_p36)",
   "language": "python",
   "name": "conda_pytorch_p36"
  },
  "language_info": {
   "codemirror_mode": {
    "name": "ipython",
    "version": 3
   },
   "file_extension": ".py",
   "mimetype": "text/x-python",
   "name": "python",
   "nbconvert_exporter": "python",
   "pygments_lexer": "ipython3",
   "version": "3.6.5"
  }
 },
 "nbformat": 4,
 "nbformat_minor": 2
}
