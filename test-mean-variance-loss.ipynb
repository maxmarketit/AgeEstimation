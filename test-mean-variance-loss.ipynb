{
 "cells": [
  {
   "cell_type": "code",
   "execution_count": 1,
   "metadata": {},
   "outputs": [],
   "source": [
    "from torch import nn\n",
    "import math\n",
    "import torch\n",
    "# import numpy as np\n",
    "import torch.nn.functional as F\n",
    "\n",
    "\n",
    "class MeanVarianceLoss(nn.Module):\n",
    "\n",
    "    def __init__(self, lambda_1, lambda_2, start_age, end_age):\n",
    "        super().__init__()\n",
    "        self.lambda_1 = lambda_1\n",
    "        self.lambda_2 = lambda_2\n",
    "        self.start_age = start_age\n",
    "        self.end_age = end_age\n",
    "\n",
    "    def forward(self, input, target):\n",
    "\n",
    "        N = input.size()[0]\n",
    "        target = target.type(torch.FloatTensor).cuda()\n",
    "        m = nn.Softmax(dim=1)\n",
    "        p = m(input)\n",
    "        # print('input', input.size())\n",
    "        # print('target', target.size())\n",
    "        # print('p', p.size())\n",
    "        # mean loss\n",
    "        a = torch.arange(self.start_age, self.end_age + 1, dtype=torch.float32).cuda()\n",
    "        mean = torch.squeeze((p * a).sum(1, keepdim=True), dim=1)\n",
    "        mse = (mean - target)**2\n",
    "        mean_loss = mse.mean() / 2.0\n",
    "        # print('mean', mean.size())\n",
    "        # print('mse', mse.size())\n",
    "        # print('mean_loss', mean_loss)\n",
    "\n",
    "        # variance loss\n",
    "        b = (a[None, :] - mean[:, None])**2\n",
    "        variance_loss = (p * b).sum(1, keepdim=True).mean()\n",
    "        # print(variance_loss)\n",
    "        \n",
    "        # return self.lambda_1 * mean_loss, torch.tensor(0.)\n",
    "        return self.lambda_1 * mean_loss, self.lambda_2 * variance_loss\n",
    "    \n",
    "    \n",
    "class MeanVarianceLoss2(nn.Module):\n",
    "\n",
    "    def __init__(self, lambda_1, lambda_2, start_age, end_age):\n",
    "        super().__init__()\n",
    "        self.lambda_1 = lambda_1\n",
    "        self.lambda_2 = lambda_2\n",
    "        self.start_age = start_age\n",
    "        self.end_age = end_age\n",
    "\n",
    "    def forward(self, input, target):\n",
    "\n",
    "        N = input.size()[0]\n",
    "        target = target.type(torch.FloatTensor).cuda()\n",
    "        m = nn.Softmax(dim=1)\n",
    "        p = m(input)\n",
    "        # print('input', input.size())\n",
    "        # print('target', target.size())\n",
    "        # print('p', p.size())\n",
    "        # mean loss\n",
    "        a = torch.arange(self.start_age, self.end_age + 1, dtype=torch.float32).cuda()\n",
    "        mean = torch.squeeze((p * a).sum(1, keepdim=True), dim=1)\n",
    "        #variance = \n",
    "        b = (a[None, :] - mean[:, None])**2 # line 78\n",
    "        \n",
    "        #variance = (p * b).sum(1, keepdim=True)        \n",
    "        variance = (p * b).sum(1)\n",
    "        \n",
    "        mse = ((mean - target)/variance)**2\n",
    "        mean_loss = mse.mean() / 2.0\n",
    "        # print('mean', mean.size())\n",
    "        # print('mse', mse.size())\n",
    "        # print('mean_loss', mean_loss)\n",
    "\n",
    "        # variance loss\n",
    "        #b = (a[None, :] - mean[:, None])**2\n",
    "        variance_loss = variance.mean()\n",
    "        # print(variance_loss)\n",
    "        \n",
    "        # return self.lambda_1 * mean_loss, torch.tensor(0.)\n",
    "        return self.lambda_1 * mean_loss, self.lambda_2 * variance_loss\n"
   ]
  },
  {
   "cell_type": "code",
   "execution_count": 2,
   "metadata": {},
   "outputs": [],
   "source": [
    "lossfun = MeanVarianceLoss2(0.2, 0.005, 0, 10)"
   ]
  },
  {
   "cell_type": "code",
   "execution_count": 3,
   "metadata": {},
   "outputs": [],
   "source": [
    "import torch"
   ]
  },
  {
   "cell_type": "code",
   "execution_count": 8,
   "metadata": {},
   "outputs": [],
   "source": [
    "import numpy as np\n",
    "device = 'cpu'"
   ]
  },
  {
   "cell_type": "code",
   "execution_count": 9,
   "metadata": {},
   "outputs": [
    {
     "data": {
      "text/plain": [
       "FNN(\n",
       "  (nn): Sequential(\n",
       "    (0): Linear(in_features=1, out_features=5, bias=True)\n",
       "    (1): Linear(in_features=5, out_features=11, bias=True)\n",
       "  )\n",
       "  (softmax): Softmax(dim=1)\n",
       ")"
      ]
     },
     "execution_count": 9,
     "metadata": {},
     "output_type": "execute_result"
    }
   ],
   "source": [
    "class FNN(nn.Module):\n",
    "    def __init__(self, nclass=None, ys = None):\n",
    "        super().__init__()\n",
    "        nnode = 5\n",
    "        #nnode = 30\n",
    "        self.nn = nn.Sequential(\n",
    "            nn.Linear(1,nnode),  # num param = 11\n",
    "            #nn.LeakyReLU(10), # num param = 11\n",
    "  \n",
    "            #nn.Linear(10,10), # num param = 110\n",
    "            #nn.LeakyReLU(10), # num param = 10\n",
    "            \n",
    "            nn.Linear(nnode, nclass), # num param = (10+1)*nclass  \n",
    "            # the number of classes\n",
    "        )\n",
    "        self.softmax = nn.Softmax(dim=1)\n",
    "        if nclass is not None:\n",
    "            self.nclass = nclass\n",
    "        else:\n",
    "            raise ValueError('nclass is required')\n",
    "            \n",
    "        if ys is not None:\n",
    "            self.ys = ys\n",
    "        else:\n",
    "            raise ValueError('ys is required')\n",
    "            \n",
    "        if nclass != len(ys):\n",
    "            raise ValueError('nclass should equal to len(ys)')\n",
    "\n",
    "    def forward(self, x):\n",
    "        x = self.nn(x)\n",
    "        #x = self.softmax(x)\n",
    "        return x\n",
    "    \n",
    "\n",
    "model = FNN(nclass = 11, ys = np.arange(11))\n",
    "model.to(device)"
   ]
  },
  {
   "cell_type": "code",
   "execution_count": 10,
   "metadata": {},
   "outputs": [],
   "source": [
    "ypred = torch.tensor([1,2,3,4,5,6,7,8,9,10])"
   ]
  },
  {
   "cell_type": "code",
   "execution_count": 14,
   "metadata": {},
   "outputs": [
    {
     "data": {
      "text/plain": [
       "array([[0, 1, 0, 0, 0, 0, 0, 0, 0, 0, 0],\n",
       "       [0, 0, 1, 0, 0, 0, 0, 0, 0, 0, 0],\n",
       "       [0, 0, 0, 1, 0, 0, 0, 0, 0, 0, 0],\n",
       "       [0, 0, 0, 0, 1, 0, 0, 0, 0, 0, 0],\n",
       "       [0, 0, 0, 0, 0, 1, 0, 0, 0, 0, 0],\n",
       "       [0, 0, 0, 0, 0, 0, 1, 0, 0, 0, 0],\n",
       "       [0, 0, 0, 0, 0, 0, 0, 1, 0, 0, 0],\n",
       "       [0, 0, 0, 0, 0, 0, 0, 0, 1, 0, 0],\n",
       "       [0, 0, 0, 0, 0, 0, 0, 0, 0, 1, 0],\n",
       "       [0, 0, 0, 0, 0, 0, 0, 0, 0, 0, 1]], dtype=uint8)"
      ]
     },
     "execution_count": 14,
     "metadata": {},
     "output_type": "execute_result"
    }
   ],
   "source": [
    "def to_categorical(y, num_classes):\n",
    "    \"\"\" 1-hot encodes a tensor \"\"\"\n",
    "    return np.eye(num_classes, dtype='uint8')[y]\n",
    "\n",
    "z = to_categorical(ypred, 11)\n",
    "z"
   ]
  },
  {
   "cell_type": "code",
   "execution_count": 11,
   "metadata": {},
   "outputs": [],
   "source": [
    "ytrue = torch.tensor([0,1,2,4,5,3,2,5,6,7])"
   ]
  },
  {
   "cell_type": "code",
   "execution_count": null,
   "metadata": {},
   "outputs": [],
   "source": [
    "mean = torch.squeeze((p * a).sum(1, keepdim=True), dim=1)"
   ]
  },
  {
   "cell_type": "code",
   "execution_count": 31,
   "metadata": {},
   "outputs": [
    {
     "data": {
      "text/plain": [
       "tensor([1, 1, 1, 1, 1, 1, 1, 1, 1, 1])"
      ]
     },
     "execution_count": 31,
     "metadata": {},
     "output_type": "execute_result"
    }
   ],
   "source": [
    "torch.squeeze((torch.tensor(z)*torch.tensor(z)).sum(1, keepdim=True), dim=1)"
   ]
  },
  {
   "cell_type": "code",
   "execution_count": 16,
   "metadata": {},
   "outputs": [],
   "source": [
    "z_ = torch.tensor(z, dtype=torch.float32)"
   ]
  },
  {
   "cell_type": "code",
   "execution_count": 24,
   "metadata": {},
   "outputs": [
    {
     "data": {
      "text/plain": [
       "(tensor(0.0062, device='cuda:0'), tensor(0.0482, device='cuda:0'))"
      ]
     },
     "execution_count": 24,
     "metadata": {},
     "output_type": "execute_result"
    }
   ],
   "source": [
    "lossfun(z_.to('cuda'), ytrue.to('cuda'))"
   ]
  },
  {
   "cell_type": "code",
   "execution_count": 22,
   "metadata": {},
   "outputs": [
    {
     "data": {
      "text/plain": [
       "device(type='cpu')"
      ]
     },
     "execution_count": 22,
     "metadata": {},
     "output_type": "execute_result"
    }
   ],
   "source": [
    "z_.device"
   ]
  },
  {
   "cell_type": "code",
   "execution_count": 23,
   "metadata": {},
   "outputs": [
    {
     "data": {
      "text/plain": [
       "device(type='cpu')"
      ]
     },
     "execution_count": 23,
     "metadata": {},
     "output_type": "execute_result"
    }
   ],
   "source": [
    "ytrue.device"
   ]
  },
  {
   "cell_type": "code",
   "execution_count": 20,
   "metadata": {},
   "outputs": [
    {
     "data": {
      "text/plain": [
       "tensor([[0., 1., 0., 0., 0., 0., 0., 0., 0., 0., 0.],\n",
       "        [0., 0., 1., 0., 0., 0., 0., 0., 0., 0., 0.],\n",
       "        [0., 0., 0., 1., 0., 0., 0., 0., 0., 0., 0.],\n",
       "        [0., 0., 0., 0., 1., 0., 0., 0., 0., 0., 0.],\n",
       "        [0., 0., 0., 0., 0., 1., 0., 0., 0., 0., 0.],\n",
       "        [0., 0., 0., 0., 0., 0., 1., 0., 0., 0., 0.],\n",
       "        [0., 0., 0., 0., 0., 0., 0., 1., 0., 0., 0.],\n",
       "        [0., 0., 0., 0., 0., 0., 0., 0., 1., 0., 0.],\n",
       "        [0., 0., 0., 0., 0., 0., 0., 0., 0., 1., 0.],\n",
       "        [0., 0., 0., 0., 0., 0., 0., 0., 0., 0., 1.]], device='cuda:0')"
      ]
     },
     "execution_count": 20,
     "metadata": {},
     "output_type": "execute_result"
    }
   ],
   "source": [
    "z_.to('cuda')"
   ]
  },
  {
   "cell_type": "code",
   "execution_count": 21,
   "metadata": {},
   "outputs": [
    {
     "data": {
      "text/plain": [
       "tensor([0, 1, 2, 4, 5, 3, 2, 5, 6, 7], device='cuda:0')"
      ]
     },
     "execution_count": 21,
     "metadata": {},
     "output_type": "execute_result"
    }
   ],
   "source": [
    "ytrue.to('cuda')"
   ]
  },
  {
   "cell_type": "code",
   "execution_count": null,
   "metadata": {},
   "outputs": [],
   "source": []
  }
 ],
 "metadata": {
  "kernelspec": {
   "display_name": "Environment (conda_pytorch_p36)",
   "language": "python",
   "name": "conda_pytorch_p36"
  },
  "language_info": {
   "codemirror_mode": {
    "name": "ipython",
    "version": 3
   },
   "file_extension": ".py",
   "mimetype": "text/x-python",
   "name": "python",
   "nbconvert_exporter": "python",
   "pygments_lexer": "ipython3",
   "version": "3.6.5"
  }
 },
 "nbformat": 4,
 "nbformat_minor": 2
}
